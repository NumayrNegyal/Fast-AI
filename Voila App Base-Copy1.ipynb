{
 "cells": [
  {
   "cell_type": "code",
   "execution_count": 1,
   "metadata": {
    "colab": {
     "base_uri": "https://localhost:8080/"
    },
    "executionInfo": {
     "elapsed": 28453,
     "status": "ok",
     "timestamp": 1612874312922,
     "user": {
      "displayName": "Numayr Negyal",
      "photoUrl": "",
      "userId": "08890242836570955776"
     },
     "user_tz": 0
    },
    "id": "QnemLBzOpMM8",
    "outputId": "8d38bcce-08cb-4157-a361-1ac72bbd2bb6"
   },
   "outputs": [],
   "source": [
    "#hide\n",
    "#!pip install -Uqq fastbook\n",
    "import fastbook\n",
    "fastbook.setup_book()"
   ]
  },
  {
   "cell_type": "code",
   "execution_count": 2,
   "metadata": {
    "executionInfo": {
     "elapsed": 590,
     "status": "ok",
     "timestamp": 1612877410012,
     "user": {
      "displayName": "Numayr Negyal",
      "photoUrl": "",
      "userId": "08890242836570955776"
     },
     "user_tz": 0
    },
    "id": "1O5dVghapMNB"
   },
   "outputs": [],
   "source": [
    "#hide\n",
    "from fastbook import *\n",
    "from fastai.vision.widgets import *"
   ]
  },
  {
   "cell_type": "code",
   "execution_count": 3,
   "metadata": {},
   "outputs": [
    {
     "name": "stderr",
     "output_type": "stream",
     "text": [
      "Enabling: voila\n",
      "- Writing config: D:\\Stuff\\Programs\\anaconda3\\envs\\myenv\\etc\\jupyter\n",
      "    - Validating...\n",
      "      voila 0.2.6 ok\n"
     ]
    }
   ],
   "source": [
    "!jupyter serverextension enable --sys-prefix voila"
   ]
  },
  {
   "cell_type": "code",
   "execution_count": 4,
   "metadata": {
    "colab": {
     "base_uri": "https://localhost:8080/"
    },
    "executionInfo": {
     "elapsed": 1005,
     "status": "ok",
     "timestamp": 1612877410440,
     "user": {
      "displayName": "Numayr Negyal",
      "photoUrl": "",
      "userId": "08890242836570955776"
     },
     "user_tz": 0
    },
    "id": "20mjpC5opMNY",
    "outputId": "4411b302-7085-4bdb-9d2d-d0982b19a2c8"
   },
   "outputs": [],
   "source": [
    "path = Path()\n",
    "path.ls(file_exts='.pkl')\n",
    "import pathlib\n",
    "temp = pathlib.PosixPath\n",
    "pathlib.PosixPath = pathlib.WindowsPath"
   ]
  },
  {
   "cell_type": "code",
   "execution_count": 5,
   "metadata": {
    "executionInfo": {
     "elapsed": 1008,
     "status": "ok",
     "timestamp": 1612877410440,
     "user": {
      "displayName": "Numayr Negyal",
      "photoUrl": "",
      "userId": "08890242836570955776"
     },
     "user_tz": 0
    },
    "id": "BYjAMm0Q3uIB"
   },
   "outputs": [],
   "source": [
    "learn_inf = load_learner('export.pkl')"
   ]
  },
  {
   "cell_type": "code",
   "execution_count": 6,
   "metadata": {
    "executionInfo": {
     "elapsed": 1002,
     "status": "ok",
     "timestamp": 1612877410441,
     "user": {
      "displayName": "Numayr Negyal",
      "photoUrl": "",
      "userId": "08890242836570955776"
     },
     "user_tz": 0
    },
    "id": "QfgYWVC63Phe"
   },
   "outputs": [],
   "source": [
    "btn_upload = widgets.FileUpload()"
   ]
  },
  {
   "cell_type": "code",
   "execution_count": 7,
   "metadata": {
    "executionInfo": {
     "elapsed": 999,
     "status": "ok",
     "timestamp": 1612877410441,
     "user": {
      "displayName": "Numayr Negyal",
      "photoUrl": "",
      "userId": "08890242836570955776"
     },
     "user_tz": 0
    },
    "id": "E4Di9ZWR3ai2"
   },
   "outputs": [],
   "source": [
    "out_pl = widgets.Output()"
   ]
  },
  {
   "cell_type": "code",
   "execution_count": 8,
   "metadata": {
    "executionInfo": {
     "elapsed": 1327,
     "status": "ok",
     "timestamp": 1612877410776,
     "user": {
      "displayName": "Numayr Negyal",
      "photoUrl": "",
      "userId": "08890242836570955776"
     },
     "user_tz": 0
    },
    "id": "LvVNsZJ334Za"
   },
   "outputs": [],
   "source": [
    "lbl_pred = widgets.Label()"
   ]
  },
  {
   "cell_type": "code",
   "execution_count": 9,
   "metadata": {
    "executionInfo": {
     "elapsed": 1325,
     "status": "ok",
     "timestamp": 1612877410777,
     "user": {
      "displayName": "Numayr Negyal",
      "photoUrl": "",
      "userId": "08890242836570955776"
     },
     "user_tz": 0
    },
    "id": "HtaWhfZG5r12"
   },
   "outputs": [],
   "source": [
    "btn_run = widgets.Button(description='Classify')"
   ]
  },
  {
   "cell_type": "code",
   "execution_count": 10,
   "metadata": {
    "executionInfo": {
     "elapsed": 1320,
     "status": "ok",
     "timestamp": 1612877410777,
     "user": {
      "displayName": "Numayr Negyal",
      "photoUrl": "",
      "userId": "08890242836570955776"
     },
     "user_tz": 0
    },
    "id": "rwFOguWxpMNc"
   },
   "outputs": [],
   "source": [
    "def on_click_classify(change):\n",
    "    img = PILImage.create(btn_upload.data[-1])\n",
    "    pred,pred_idx,probs = learn_inf.predict(img)\n",
    "    out_pl.clear_output()\n",
    "    with out_pl: display(img.to_thumb(128,128))\n",
    "    pred,pred_idx,probs = learn_inf.predict(img)\n",
    "    lbl_pred.value = f'Prediction: {pred}; Probability: {probs[pred_idx]:.04f}'\n",
    "\n",
    "btn_run.on_click(on_click_classify)"
   ]
  },
  {
   "cell_type": "code",
   "execution_count": 11,
   "metadata": {
    "colab": {
     "base_uri": "https://localhost:8080/",
     "height": 273,
     "referenced_widgets": [
      "b390725a361f44d2b21d50dd84a7e4e9",
      "b9f6d3f0fdbe4f95b7115d9d4800937c",
      "a19a1f3854e54cdba90f74bd77ff2207",
      "2a74d1d2430d4322945abcb14abe0e17",
      "c6163da43de948bcbe4dff3fee4755cb",
      "f6b2a3821d784a16bd883aeb3dd47c12",
      "f78060d949ce421e8c497373c96e8ec5",
      "ec397c21f6a540019aa4958b51d13b08",
      "1672890a20464fa2a6852ec20cec39f0",
      "415458c9f2ea41cb80e42141058a393c",
      "faf833bf61c046b18e851c28f73b50ba",
      "45f2220f19054bcebb1401ab6fb73b49",
      "dd5f744162da4a7e9fd3b8c2b0a8f83c",
      "72b8606520ce4d7c83c03eb96c5e8726",
      "b61768ae06a24d128fb120651a5d0db0",
      "cc1f416a33624ed299fac745847251bb"
     ]
    },
    "executionInfo": {
     "elapsed": 1319,
     "status": "ok",
     "timestamp": 1612877410779,
     "user": {
      "displayName": "Numayr Negyal",
      "photoUrl": "",
      "userId": "08890242836570955776"
     },
     "user_tz": 0
    },
    "id": "7Q1zpoQw5s9K",
    "outputId": "d80ef30f-ebae-4d0d-c81b-f2dd828fe6a8"
   },
   "outputs": [
    {
     "data": {
      "application/vnd.jupyter.widget-view+json": {
       "model_id": "22743f3b2ecc440fa8d24d0b423ad619",
       "version_major": 2,
       "version_minor": 0
      },
      "text/plain": [
       "VBox(children=(Label(value='Please '), FileUpload(value={}, description='Upload'), Button(description='Classif…"
      ]
     },
     "metadata": {},
     "output_type": "display_data"
    }
   ],
   "source": [
    "btn_upload = widgets.FileUpload()\n",
    "VBox([widgets.Label('Please '), \n",
    "      btn_upload, btn_run, out_pl, lbl_pred])"
   ]
  }
 ],
 "metadata": {
  "colab": {
   "authorship_tag": "ABX9TyNX7i1I+Tgf5DtlVLqQPfN4",
   "collapsed_sections": [],
   "name": "Voila App Base.ipynb",
   "provenance": []
  },
  "kernelspec": {
   "display_name": "myEnv",
   "language": "python",
   "name": "myenv"
  },
  "language_info": {
   "codemirror_mode": {
    "name": "ipython",
    "version": 3
   },
   "file_extension": ".py",
   "mimetype": "text/x-python",
   "name": "python",
   "nbconvert_exporter": "python",
   "pygments_lexer": "ipython3",
   "version": "3.8.5"
  },
  "widgets": {
   "application/vnd.jupyter.widget-state+json": {
    "1672890a20464fa2a6852ec20cec39f0": {
     "model_module": "@jupyter-widgets/base",
     "model_name": "LayoutModel",
     "state": {
      "_model_module": "@jupyter-widgets/base",
      "_model_module_version": "1.2.0",
      "_model_name": "LayoutModel",
      "_view_count": null,
      "_view_module": "@jupyter-widgets/base",
      "_view_module_version": "1.2.0",
      "_view_name": "LayoutView",
      "align_content": null,
      "align_items": null,
      "align_self": null,
      "border": null,
      "bottom": null,
      "display": null,
      "flex": null,
      "flex_flow": null,
      "grid_area": null,
      "grid_auto_columns": null,
      "grid_auto_flow": null,
      "grid_auto_rows": null,
      "grid_column": null,
      "grid_gap": null,
      "grid_row": null,
      "grid_template_areas": null,
      "grid_template_columns": null,
      "grid_template_rows": null,
      "height": null,
      "justify_content": null,
      "justify_items": null,
      "left": null,
      "margin": null,
      "max_height": null,
      "max_width": null,
      "min_height": null,
      "min_width": null,
      "object_fit": null,
      "object_position": null,
      "order": null,
      "overflow": null,
      "overflow_x": null,
      "overflow_y": null,
      "padding": null,
      "right": null,
      "top": null,
      "visibility": null,
      "width": null
     }
    },
    "2a74d1d2430d4322945abcb14abe0e17": {
     "model_module": "@jupyter-widgets/controls",
     "model_name": "FileUploadModel",
     "state": {
      "_counter": 1,
      "_dom_classes": [],
      "_model_module": "@jupyter-widgets/controls",
      "_model_module_version": "1.5.0",
      "_model_name": "FileUploadModel",
      "_view_count": null,
      "_view_module": "@jupyter-widgets/controls",
      "_view_module_version": "1.5.0",
      "_view_name": "FileUploadView",
      "accept": "",
      "button_style": "",
      "data": [
       null
      ],
      "description": "Upload",
      "description_tooltip": null,
      "disabled": false,
      "error": "",
      "icon": "upload",
      "layout": "IPY_MODEL_faf833bf61c046b18e851c28f73b50ba",
      "metadata": [
       {
        "lastModified": 1611842172107,
        "name": "Scout.jpg",
        "size": 616756,
        "type": "image/jpeg"
       }
      ],
      "multiple": false,
      "style": "IPY_MODEL_415458c9f2ea41cb80e42141058a393c"
     }
    },
    "415458c9f2ea41cb80e42141058a393c": {
     "model_module": "@jupyter-widgets/controls",
     "model_name": "ButtonStyleModel",
     "state": {
      "_model_module": "@jupyter-widgets/controls",
      "_model_module_version": "1.5.0",
      "_model_name": "ButtonStyleModel",
      "_view_count": null,
      "_view_module": "@jupyter-widgets/base",
      "_view_module_version": "1.2.0",
      "_view_name": "StyleView",
      "button_color": null,
      "font_weight": ""
     }
    },
    "45f2220f19054bcebb1401ab6fb73b49": {
     "model_module": "@jupyter-widgets/controls",
     "model_name": "ButtonStyleModel",
     "state": {
      "_model_module": "@jupyter-widgets/controls",
      "_model_module_version": "1.5.0",
      "_model_name": "ButtonStyleModel",
      "_view_count": null,
      "_view_module": "@jupyter-widgets/base",
      "_view_module_version": "1.2.0",
      "_view_name": "StyleView",
      "button_color": null,
      "font_weight": ""
     }
    },
    "72b8606520ce4d7c83c03eb96c5e8726": {
     "model_module": "@jupyter-widgets/controls",
     "model_name": "DescriptionStyleModel",
     "state": {
      "_model_module": "@jupyter-widgets/controls",
      "_model_module_version": "1.5.0",
      "_model_name": "DescriptionStyleModel",
      "_view_count": null,
      "_view_module": "@jupyter-widgets/base",
      "_view_module_version": "1.2.0",
      "_view_name": "StyleView",
      "description_width": ""
     }
    },
    "a19a1f3854e54cdba90f74bd77ff2207": {
     "model_module": "@jupyter-widgets/controls",
     "model_name": "LabelModel",
     "state": {
      "_dom_classes": [],
      "_model_module": "@jupyter-widgets/controls",
      "_model_module_version": "1.5.0",
      "_model_name": "LabelModel",
      "_view_count": null,
      "_view_module": "@jupyter-widgets/controls",
      "_view_module_version": "1.5.0",
      "_view_name": "LabelView",
      "description": "",
      "description_tooltip": null,
      "layout": "IPY_MODEL_1672890a20464fa2a6852ec20cec39f0",
      "placeholder": "​",
      "style": "IPY_MODEL_ec397c21f6a540019aa4958b51d13b08",
      "value": "Select your bear!"
     }
    },
    "b390725a361f44d2b21d50dd84a7e4e9": {
     "model_module": "@jupyter-widgets/controls",
     "model_name": "VBoxModel",
     "state": {
      "_dom_classes": [],
      "_model_module": "@jupyter-widgets/controls",
      "_model_module_version": "1.5.0",
      "_model_name": "VBoxModel",
      "_view_count": null,
      "_view_module": "@jupyter-widgets/controls",
      "_view_module_version": "1.5.0",
      "_view_name": "VBoxView",
      "box_style": "",
      "children": [
       "IPY_MODEL_a19a1f3854e54cdba90f74bd77ff2207",
       "IPY_MODEL_2a74d1d2430d4322945abcb14abe0e17",
       "IPY_MODEL_c6163da43de948bcbe4dff3fee4755cb",
       "IPY_MODEL_f6b2a3821d784a16bd883aeb3dd47c12",
       "IPY_MODEL_f78060d949ce421e8c497373c96e8ec5"
      ],
      "layout": "IPY_MODEL_b9f6d3f0fdbe4f95b7115d9d4800937c"
     }
    },
    "b61768ae06a24d128fb120651a5d0db0": {
     "model_module": "@jupyter-widgets/base",
     "model_name": "LayoutModel",
     "state": {
      "_model_module": "@jupyter-widgets/base",
      "_model_module_version": "1.2.0",
      "_model_name": "LayoutModel",
      "_view_count": null,
      "_view_module": "@jupyter-widgets/base",
      "_view_module_version": "1.2.0",
      "_view_name": "LayoutView",
      "align_content": null,
      "align_items": null,
      "align_self": null,
      "border": null,
      "bottom": null,
      "display": null,
      "flex": null,
      "flex_flow": null,
      "grid_area": null,
      "grid_auto_columns": null,
      "grid_auto_flow": null,
      "grid_auto_rows": null,
      "grid_column": null,
      "grid_gap": null,
      "grid_row": null,
      "grid_template_areas": null,
      "grid_template_columns": null,
      "grid_template_rows": null,
      "height": null,
      "justify_content": null,
      "justify_items": null,
      "left": null,
      "margin": null,
      "max_height": null,
      "max_width": null,
      "min_height": null,
      "min_width": null,
      "object_fit": null,
      "object_position": null,
      "order": null,
      "overflow": null,
      "overflow_x": null,
      "overflow_y": null,
      "padding": null,
      "right": null,
      "top": null,
      "visibility": null,
      "width": null
     }
    },
    "b9f6d3f0fdbe4f95b7115d9d4800937c": {
     "model_module": "@jupyter-widgets/base",
     "model_name": "LayoutModel",
     "state": {
      "_model_module": "@jupyter-widgets/base",
      "_model_module_version": "1.2.0",
      "_model_name": "LayoutModel",
      "_view_count": null,
      "_view_module": "@jupyter-widgets/base",
      "_view_module_version": "1.2.0",
      "_view_name": "LayoutView",
      "align_content": null,
      "align_items": null,
      "align_self": null,
      "border": null,
      "bottom": null,
      "display": null,
      "flex": null,
      "flex_flow": null,
      "grid_area": null,
      "grid_auto_columns": null,
      "grid_auto_flow": null,
      "grid_auto_rows": null,
      "grid_column": null,
      "grid_gap": null,
      "grid_row": null,
      "grid_template_areas": null,
      "grid_template_columns": null,
      "grid_template_rows": null,
      "height": null,
      "justify_content": null,
      "justify_items": null,
      "left": null,
      "margin": null,
      "max_height": null,
      "max_width": null,
      "min_height": null,
      "min_width": null,
      "object_fit": null,
      "object_position": null,
      "order": null,
      "overflow": null,
      "overflow_x": null,
      "overflow_y": null,
      "padding": null,
      "right": null,
      "top": null,
      "visibility": null,
      "width": null
     }
    },
    "c6163da43de948bcbe4dff3fee4755cb": {
     "model_module": "@jupyter-widgets/controls",
     "model_name": "ButtonModel",
     "state": {
      "_dom_classes": [],
      "_model_module": "@jupyter-widgets/controls",
      "_model_module_version": "1.5.0",
      "_model_name": "ButtonModel",
      "_view_count": null,
      "_view_module": "@jupyter-widgets/controls",
      "_view_module_version": "1.5.0",
      "_view_name": "ButtonView",
      "button_style": "",
      "description": "Classify",
      "disabled": false,
      "icon": "",
      "layout": "IPY_MODEL_dd5f744162da4a7e9fd3b8c2b0a8f83c",
      "style": "IPY_MODEL_45f2220f19054bcebb1401ab6fb73b49",
      "tooltip": ""
     }
    },
    "cc1f416a33624ed299fac745847251bb": {
     "model_module": "@jupyter-widgets/base",
     "model_name": "LayoutModel",
     "state": {
      "_model_module": "@jupyter-widgets/base",
      "_model_module_version": "1.2.0",
      "_model_name": "LayoutModel",
      "_view_count": null,
      "_view_module": "@jupyter-widgets/base",
      "_view_module_version": "1.2.0",
      "_view_name": "LayoutView",
      "align_content": null,
      "align_items": null,
      "align_self": null,
      "border": null,
      "bottom": null,
      "display": null,
      "flex": null,
      "flex_flow": null,
      "grid_area": null,
      "grid_auto_columns": null,
      "grid_auto_flow": null,
      "grid_auto_rows": null,
      "grid_column": null,
      "grid_gap": null,
      "grid_row": null,
      "grid_template_areas": null,
      "grid_template_columns": null,
      "grid_template_rows": null,
      "height": null,
      "justify_content": null,
      "justify_items": null,
      "left": null,
      "margin": null,
      "max_height": null,
      "max_width": null,
      "min_height": null,
      "min_width": null,
      "object_fit": null,
      "object_position": null,
      "order": null,
      "overflow": null,
      "overflow_x": null,
      "overflow_y": null,
      "padding": null,
      "right": null,
      "top": null,
      "visibility": null,
      "width": null
     }
    },
    "dd5f744162da4a7e9fd3b8c2b0a8f83c": {
     "model_module": "@jupyter-widgets/base",
     "model_name": "LayoutModel",
     "state": {
      "_model_module": "@jupyter-widgets/base",
      "_model_module_version": "1.2.0",
      "_model_name": "LayoutModel",
      "_view_count": null,
      "_view_module": "@jupyter-widgets/base",
      "_view_module_version": "1.2.0",
      "_view_name": "LayoutView",
      "align_content": null,
      "align_items": null,
      "align_self": null,
      "border": null,
      "bottom": null,
      "display": null,
      "flex": null,
      "flex_flow": null,
      "grid_area": null,
      "grid_auto_columns": null,
      "grid_auto_flow": null,
      "grid_auto_rows": null,
      "grid_column": null,
      "grid_gap": null,
      "grid_row": null,
      "grid_template_areas": null,
      "grid_template_columns": null,
      "grid_template_rows": null,
      "height": null,
      "justify_content": null,
      "justify_items": null,
      "left": null,
      "margin": null,
      "max_height": null,
      "max_width": null,
      "min_height": null,
      "min_width": null,
      "object_fit": null,
      "object_position": null,
      "order": null,
      "overflow": null,
      "overflow_x": null,
      "overflow_y": null,
      "padding": null,
      "right": null,
      "top": null,
      "visibility": null,
      "width": null
     }
    },
    "ec397c21f6a540019aa4958b51d13b08": {
     "model_module": "@jupyter-widgets/controls",
     "model_name": "DescriptionStyleModel",
     "state": {
      "_model_module": "@jupyter-widgets/controls",
      "_model_module_version": "1.5.0",
      "_model_name": "DescriptionStyleModel",
      "_view_count": null,
      "_view_module": "@jupyter-widgets/base",
      "_view_module_version": "1.2.0",
      "_view_name": "StyleView",
      "description_width": ""
     }
    },
    "f6b2a3821d784a16bd883aeb3dd47c12": {
     "model_module": "@jupyter-widgets/output",
     "model_name": "OutputModel",
     "state": {
      "_dom_classes": [],
      "_model_module": "@jupyter-widgets/output",
      "_model_module_version": "1.0.0",
      "_model_name": "OutputModel",
      "_view_count": null,
      "_view_module": "@jupyter-widgets/output",
      "_view_module_version": "1.0.0",
      "_view_name": "OutputView",
      "layout": "IPY_MODEL_cc1f416a33624ed299fac745847251bb",
      "msg_id": "",
      "outputs": [
       {
        "image/png": "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\n",
        "metadata": {
         "tags": []
        },
        "output_type": "display_data",
        "text/plain": "<PIL.Image.Image image mode=RGB size=72x128 at 0x7FB8B75522B0>"
       }
      ]
     }
    },
    "f78060d949ce421e8c497373c96e8ec5": {
     "model_module": "@jupyter-widgets/controls",
     "model_name": "LabelModel",
     "state": {
      "_dom_classes": [],
      "_model_module": "@jupyter-widgets/controls",
      "_model_module_version": "1.5.0",
      "_model_name": "LabelModel",
      "_view_count": null,
      "_view_module": "@jupyter-widgets/controls",
      "_view_module_version": "1.5.0",
      "_view_name": "LabelView",
      "description": "",
      "description_tooltip": null,
      "layout": "IPY_MODEL_b61768ae06a24d128fb120651a5d0db0",
      "placeholder": "​",
      "style": "IPY_MODEL_72b8606520ce4d7c83c03eb96c5e8726",
      "value": "Prediction: grizzly; Probability: 0.9924"
     }
    },
    "faf833bf61c046b18e851c28f73b50ba": {
     "model_module": "@jupyter-widgets/base",
     "model_name": "LayoutModel",
     "state": {
      "_model_module": "@jupyter-widgets/base",
      "_model_module_version": "1.2.0",
      "_model_name": "LayoutModel",
      "_view_count": null,
      "_view_module": "@jupyter-widgets/base",
      "_view_module_version": "1.2.0",
      "_view_name": "LayoutView",
      "align_content": null,
      "align_items": null,
      "align_self": null,
      "border": null,
      "bottom": null,
      "display": null,
      "flex": null,
      "flex_flow": null,
      "grid_area": null,
      "grid_auto_columns": null,
      "grid_auto_flow": null,
      "grid_auto_rows": null,
      "grid_column": null,
      "grid_gap": null,
      "grid_row": null,
      "grid_template_areas": null,
      "grid_template_columns": null,
      "grid_template_rows": null,
      "height": null,
      "justify_content": null,
      "justify_items": null,
      "left": null,
      "margin": null,
      "max_height": null,
      "max_width": null,
      "min_height": null,
      "min_width": null,
      "object_fit": null,
      "object_position": null,
      "order": null,
      "overflow": null,
      "overflow_x": null,
      "overflow_y": null,
      "padding": null,
      "right": null,
      "top": null,
      "visibility": null,
      "width": null
     }
    }
   }
  }
 },
 "nbformat": 4,
 "nbformat_minor": 1
}
